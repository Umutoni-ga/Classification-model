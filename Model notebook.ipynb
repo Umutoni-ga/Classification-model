{
 "cells": [
  {
   "cell_type": "code",
   "execution_count": 1,
   "id": "d0e63826",
   "metadata": {},
   "outputs": [],
   "source": [
    "from sklearn.pipeline import Pipeline\n",
    "from sklearn.compose import ColumnTransformer\n",
    "from sklearn.impute import SimpleImputer\n",
    "from sklearn.preprocessing import StandardScaler, OneHotEncoder\n",
    "from sklearn import ensemble\n",
    "\n",
    "import pandas as pd\n",
    "import numpy as np"
   ]
  },
  {
   "cell_type": "code",
   "execution_count": 2,
   "id": "8f6419f0",
   "metadata": {},
   "outputs": [],
   "source": [
    "train_data=pd.read_csv('Train.csv')"
   ]
  },
  {
   "cell_type": "code",
   "execution_count": 3,
   "id": "1dbd9abc",
   "metadata": {},
   "outputs": [
    {
     "data": {
      "text/html": [
       "<div>\n",
       "<style scoped>\n",
       "    .dataframe tbody tr th:only-of-type {\n",
       "        vertical-align: middle;\n",
       "    }\n",
       "\n",
       "    .dataframe tbody tr th {\n",
       "        vertical-align: top;\n",
       "    }\n",
       "\n",
       "    .dataframe thead th {\n",
       "        text-align: right;\n",
       "    }\n",
       "</style>\n",
       "<table border=\"1\" class=\"dataframe\">\n",
       "  <thead>\n",
       "    <tr style=\"text-align: right;\">\n",
       "      <th></th>\n",
       "      <th>Loan_ID</th>\n",
       "      <th>Gender</th>\n",
       "      <th>Married</th>\n",
       "      <th>Dependents</th>\n",
       "      <th>Education</th>\n",
       "      <th>Self_Employed</th>\n",
       "      <th>ApplicantIncome</th>\n",
       "      <th>CoapplicantIncome</th>\n",
       "      <th>LoanAmount</th>\n",
       "      <th>Loan_Amount_Term</th>\n",
       "      <th>Credit_History</th>\n",
       "      <th>Property_Area</th>\n",
       "      <th>Loan_Status</th>\n",
       "    </tr>\n",
       "  </thead>\n",
       "  <tbody>\n",
       "    <tr>\n",
       "      <th>0</th>\n",
       "      <td>LP001002</td>\n",
       "      <td>Male</td>\n",
       "      <td>No</td>\n",
       "      <td>0</td>\n",
       "      <td>Graduate</td>\n",
       "      <td>No</td>\n",
       "      <td>5849</td>\n",
       "      <td>0.0</td>\n",
       "      <td>NaN</td>\n",
       "      <td>360.0</td>\n",
       "      <td>1.0</td>\n",
       "      <td>Urban</td>\n",
       "      <td>Y</td>\n",
       "    </tr>\n",
       "    <tr>\n",
       "      <th>1</th>\n",
       "      <td>LP001003</td>\n",
       "      <td>Male</td>\n",
       "      <td>Yes</td>\n",
       "      <td>1</td>\n",
       "      <td>Graduate</td>\n",
       "      <td>No</td>\n",
       "      <td>4583</td>\n",
       "      <td>1508.0</td>\n",
       "      <td>128.0</td>\n",
       "      <td>360.0</td>\n",
       "      <td>1.0</td>\n",
       "      <td>Rural</td>\n",
       "      <td>N</td>\n",
       "    </tr>\n",
       "    <tr>\n",
       "      <th>2</th>\n",
       "      <td>LP001005</td>\n",
       "      <td>Male</td>\n",
       "      <td>Yes</td>\n",
       "      <td>0</td>\n",
       "      <td>Graduate</td>\n",
       "      <td>Yes</td>\n",
       "      <td>3000</td>\n",
       "      <td>0.0</td>\n",
       "      <td>66.0</td>\n",
       "      <td>360.0</td>\n",
       "      <td>1.0</td>\n",
       "      <td>Urban</td>\n",
       "      <td>Y</td>\n",
       "    </tr>\n",
       "    <tr>\n",
       "      <th>3</th>\n",
       "      <td>LP001006</td>\n",
       "      <td>Male</td>\n",
       "      <td>Yes</td>\n",
       "      <td>0</td>\n",
       "      <td>Not Graduate</td>\n",
       "      <td>No</td>\n",
       "      <td>2583</td>\n",
       "      <td>2358.0</td>\n",
       "      <td>120.0</td>\n",
       "      <td>360.0</td>\n",
       "      <td>1.0</td>\n",
       "      <td>Urban</td>\n",
       "      <td>Y</td>\n",
       "    </tr>\n",
       "    <tr>\n",
       "      <th>4</th>\n",
       "      <td>LP001008</td>\n",
       "      <td>Male</td>\n",
       "      <td>No</td>\n",
       "      <td>0</td>\n",
       "      <td>Graduate</td>\n",
       "      <td>No</td>\n",
       "      <td>6000</td>\n",
       "      <td>0.0</td>\n",
       "      <td>141.0</td>\n",
       "      <td>360.0</td>\n",
       "      <td>1.0</td>\n",
       "      <td>Urban</td>\n",
       "      <td>Y</td>\n",
       "    </tr>\n",
       "  </tbody>\n",
       "</table>\n",
       "</div>"
      ],
      "text/plain": [
       "    Loan_ID Gender Married Dependents     Education Self_Employed  \\\n",
       "0  LP001002   Male      No          0      Graduate            No   \n",
       "1  LP001003   Male     Yes          1      Graduate            No   \n",
       "2  LP001005   Male     Yes          0      Graduate           Yes   \n",
       "3  LP001006   Male     Yes          0  Not Graduate            No   \n",
       "4  LP001008   Male      No          0      Graduate            No   \n",
       "\n",
       "   ApplicantIncome  CoapplicantIncome  LoanAmount  Loan_Amount_Term  \\\n",
       "0             5849                0.0         NaN             360.0   \n",
       "1             4583             1508.0       128.0             360.0   \n",
       "2             3000                0.0        66.0             360.0   \n",
       "3             2583             2358.0       120.0             360.0   \n",
       "4             6000                0.0       141.0             360.0   \n",
       "\n",
       "   Credit_History Property_Area Loan_Status  \n",
       "0             1.0         Urban           Y  \n",
       "1             1.0         Rural           N  \n",
       "2             1.0         Urban           Y  \n",
       "3             1.0         Urban           Y  \n",
       "4             1.0         Urban           Y  "
      ]
     },
     "execution_count": 3,
     "metadata": {},
     "output_type": "execute_result"
    }
   ],
   "source": [
    "train_data.head()"
   ]
  },
  {
   "cell_type": "code",
   "execution_count": 4,
   "id": "b970d38c",
   "metadata": {},
   "outputs": [
    {
     "data": {
      "text/plain": [
       "(614, 13)"
      ]
     },
     "execution_count": 4,
     "metadata": {},
     "output_type": "execute_result"
    }
   ],
   "source": [
    "train_data.shape"
   ]
  },
  {
   "cell_type": "code",
   "execution_count": 5,
   "id": "8654b019",
   "metadata": {},
   "outputs": [
    {
     "data": {
      "text/plain": [
       "Index(['Loan_ID', 'Gender', 'Married', 'Dependents', 'Education',\n",
       "       'Self_Employed', 'ApplicantIncome', 'CoapplicantIncome', 'LoanAmount',\n",
       "       'Loan_Amount_Term', 'Credit_History', 'Property_Area', 'Loan_Status'],\n",
       "      dtype='object')"
      ]
     },
     "execution_count": 5,
     "metadata": {},
     "output_type": "execute_result"
    }
   ],
   "source": [
    "train_data.columns"
   ]
  },
  {
   "cell_type": "code",
   "execution_count": 6,
   "id": "81d90eb2",
   "metadata": {},
   "outputs": [],
   "source": [
    "columnsX=train_data.columns[1:-1]\n",
    "columnsY=train_data.columns[-1]"
   ]
  },
  {
   "cell_type": "code",
   "execution_count": 7,
   "id": "e18c66b9",
   "metadata": {},
   "outputs": [
    {
     "data": {
      "text/plain": [
       "Index(['Gender', 'Married', 'Dependents', 'Education', 'Self_Employed',\n",
       "       'ApplicantIncome', 'CoapplicantIncome', 'LoanAmount',\n",
       "       'Loan_Amount_Term', 'Credit_History', 'Property_Area'],\n",
       "      dtype='object')"
      ]
     },
     "execution_count": 7,
     "metadata": {},
     "output_type": "execute_result"
    }
   ],
   "source": [
    "columnsX"
   ]
  },
  {
   "cell_type": "code",
   "execution_count": 8,
   "id": "9e1660a8",
   "metadata": {},
   "outputs": [
    {
     "data": {
      "text/plain": [
       "'Loan_Status'"
      ]
     },
     "execution_count": 8,
     "metadata": {},
     "output_type": "execute_result"
    }
   ],
   "source": [
    "columnsY"
   ]
  },
  {
   "cell_type": "code",
   "execution_count": 9,
   "id": "4bf45f2a",
   "metadata": {},
   "outputs": [
    {
     "data": {
      "text/plain": [
       "Loan_ID               0\n",
       "Gender               13\n",
       "Married               3\n",
       "Dependents           15\n",
       "Education             0\n",
       "Self_Employed        32\n",
       "ApplicantIncome       0\n",
       "CoapplicantIncome     0\n",
       "LoanAmount           22\n",
       "Loan_Amount_Term     14\n",
       "Credit_History       50\n",
       "Property_Area         0\n",
       "Loan_Status           0\n",
       "dtype: int64"
      ]
     },
     "execution_count": 9,
     "metadata": {},
     "output_type": "execute_result"
    }
   ],
   "source": [
    "train_data.isnull().sum()"
   ]
  },
  {
   "cell_type": "code",
   "execution_count": 10,
   "id": "b40a88c1",
   "metadata": {},
   "outputs": [],
   "source": [
    "categorical_col=['Gender','Married','Dependents','Education','Self_Employed','Property_Area']\n",
    "numWithScaling_col=['ApplicantIncome','CoapplicantIncome','LoanAmount','Loan_Amount_Term']\n",
    "numerical_col=['Credit_History']"
   ]
  },
  {
   "cell_type": "code",
   "execution_count": 11,
   "id": "76bed4f1",
   "metadata": {},
   "outputs": [],
   "source": [
    "numeric_transformer_scaling=Pipeline(steps=[('imputer', SimpleImputer(strategy='median')), ('scaler', StandardScaler())])\n",
    "\n",
    "numeric_transformer=Pipeline(steps=[('imputer', SimpleImputer(strategy='constant', fill_value=99))])\n",
    "\n",
    "categorical_transformer=Pipeline(steps=[('imputer',SimpleImputer(strategy='constant', fill_value='missing')),\n",
    "                                       ('onehot', OneHotEncoder(handle_unknown='ignore'))])\n",
    "preprocessor=ColumnTransformer(transformers=[\n",
    "    ('num', numeric_transformer_scaling, numWithScaling_col),\n",
    "    ('num2', numeric_transformer, numerical_col),\n",
    "    ('cat', categorical_transformer, categorical_col)\n",
    "])"
   ]
  },
  {
   "cell_type": "code",
   "execution_count": 12,
   "id": "55a35c5b",
   "metadata": {},
   "outputs": [],
   "source": [
    "modelPipeline=Pipeline(steps=[('preprocessor', preprocessor), ('classifier', ensemble.RandomForestClassifier())])"
   ]
  },
  {
   "cell_type": "code",
   "execution_count": 13,
   "id": "f692a2fa",
   "metadata": {},
   "outputs": [
    {
     "data": {
      "text/plain": [
       "Pipeline(steps=[('preprocessor',\n",
       "                 ColumnTransformer(transformers=[('num',\n",
       "                                                  Pipeline(steps=[('imputer',\n",
       "                                                                   SimpleImputer(strategy='median')),\n",
       "                                                                  ('scaler',\n",
       "                                                                   StandardScaler())]),\n",
       "                                                  ['ApplicantIncome',\n",
       "                                                   'CoapplicantIncome',\n",
       "                                                   'LoanAmount',\n",
       "                                                   'Loan_Amount_Term']),\n",
       "                                                 ('num2',\n",
       "                                                  Pipeline(steps=[('imputer',\n",
       "                                                                   SimpleImputer(fill_value=99,\n",
       "                                                                                 strategy='constant'))]),\n",
       "                                                  ['Credit_History']),\n",
       "                                                 ('cat',\n",
       "                                                  Pipeline(steps=[('imputer',\n",
       "                                                                   SimpleImputer(fill_value='missing',\n",
       "                                                                                 strategy='constant')),\n",
       "                                                                  ('onehot',\n",
       "                                                                   OneHotEncoder(handle_unknown='ignore'))]),\n",
       "                                                  ['Gender', 'Married',\n",
       "                                                   'Dependents', 'Education',\n",
       "                                                   'Self_Employed',\n",
       "                                                   'Property_Area'])])),\n",
       "                ('classifier', RandomForestClassifier())])"
      ]
     },
     "execution_count": 13,
     "metadata": {},
     "output_type": "execute_result"
    }
   ],
   "source": [
    "modelPipeline.fit(train_data[columnsX], train_data[columnsY])"
   ]
  },
  {
   "cell_type": "code",
   "execution_count": 16,
   "id": "97c35f2c",
   "metadata": {},
   "outputs": [
    {
     "data": {
      "text/plain": [
       "1.0"
      ]
     },
     "execution_count": 16,
     "metadata": {},
     "output_type": "execute_result"
    }
   ],
   "source": [
    "modelPipeline.score(train_data[columnsX], train_data[columnsY])"
   ]
  },
  {
   "cell_type": "code",
   "execution_count": 17,
   "id": "67806c8d",
   "metadata": {},
   "outputs": [],
   "source": [
    "test_data=pd.read_csv('Test.csv')"
   ]
  },
  {
   "cell_type": "code",
   "execution_count": 18,
   "id": "72c0a50e",
   "metadata": {},
   "outputs": [],
   "source": [
    "predicted=modelPipeline.predict(test_data[columnsX])"
   ]
  },
  {
   "cell_type": "code",
   "execution_count": 20,
   "id": "d88e60d6",
   "metadata": {},
   "outputs": [
    {
     "name": "stdout",
     "output_type": "stream",
     "text": [
      "['Y' 'Y' 'Y' 'Y' 'N' 'Y' 'Y' 'N' 'Y' 'Y' 'Y' 'Y' 'Y' 'N' 'Y' 'Y' 'Y' 'Y'\n",
      " 'Y' 'Y' 'Y' 'Y' 'N' 'Y' 'Y' 'N' 'Y' 'Y' 'Y' 'Y' 'Y' 'Y' 'Y' 'Y' 'Y' 'N'\n",
      " 'Y' 'Y' 'Y' 'Y' 'Y' 'Y' 'Y' 'Y' 'Y' 'Y' 'Y' 'Y' 'Y' 'Y' 'Y' 'Y' 'Y' 'Y'\n",
      " 'Y' 'N' 'Y' 'Y' 'N' 'Y' 'Y' 'Y' 'Y' 'N' 'Y' 'Y' 'N' 'N' 'Y' 'N' 'Y' 'Y'\n",
      " 'Y' 'Y' 'Y' 'Y' 'Y' 'Y' 'Y' 'Y' 'N' 'Y' 'N' 'Y' 'N' 'Y' 'Y' 'Y' 'Y' 'N'\n",
      " 'Y' 'Y' 'Y' 'Y' 'N' 'Y' 'Y' 'Y' 'Y' 'Y' 'Y' 'N' 'Y' 'N' 'Y' 'Y' 'N' 'Y'\n",
      " 'Y' 'Y' 'Y' 'Y' 'Y' 'Y' 'Y' 'Y' 'Y' 'N' 'N' 'N' 'Y' 'Y' 'Y' 'N' 'N' 'Y'\n",
      " 'N' 'Y' 'Y' 'Y' 'Y' 'Y' 'Y' 'Y' 'Y' 'Y' 'Y' 'Y' 'Y' 'Y' 'Y' 'Y' 'N' 'Y'\n",
      " 'Y' 'Y' 'Y' 'N' 'Y' 'Y' 'Y' 'Y' 'Y' 'N' 'Y' 'Y' 'Y' 'N' 'Y' 'N' 'Y' 'N'\n",
      " 'Y' 'Y' 'Y' 'N' 'N' 'Y' 'N' 'Y' 'Y' 'Y' 'Y' 'N' 'N' 'Y' 'Y' 'Y' 'Y' 'Y'\n",
      " 'Y' 'Y' 'Y' 'Y' 'Y' 'Y' 'Y' 'Y' 'N' 'Y' 'Y' 'Y' 'N' 'N' 'Y' 'Y' 'N' 'Y'\n",
      " 'N' 'Y' 'Y' 'Y' 'Y' 'Y' 'Y' 'Y' 'Y' 'Y' 'Y' 'Y' 'Y' 'N' 'Y' 'Y' 'Y' 'Y'\n",
      " 'Y' 'Y' 'Y' 'Y' 'Y' 'Y' 'Y' 'Y' 'N' 'Y' 'Y' 'Y' 'Y' 'N' 'Y' 'Y' 'Y' 'Y'\n",
      " 'Y' 'N' 'N' 'Y' 'Y' 'N' 'Y' 'N' 'Y' 'N' 'Y' 'N' 'Y' 'Y' 'Y' 'Y' 'N' 'Y'\n",
      " 'Y' 'Y' 'Y' 'N' 'N' 'Y' 'Y' 'Y' 'Y' 'Y' 'Y' 'Y' 'Y' 'Y' 'N' 'Y' 'N' 'Y'\n",
      " 'Y' 'Y' 'N' 'N' 'N' 'Y' 'Y' 'Y' 'N' 'N' 'Y' 'Y' 'Y' 'N' 'Y' 'Y' 'Y' 'Y'\n",
      " 'Y' 'Y' 'Y' 'Y' 'Y' 'N' 'Y' 'Y' 'Y' 'Y' 'Y' 'Y' 'Y' 'N' 'Y' 'Y' 'Y' 'Y'\n",
      " 'Y' 'Y' 'Y' 'Y' 'Y' 'N' 'Y' 'Y' 'Y' 'Y' 'N' 'N' 'Y' 'Y' 'Y' 'Y' 'Y' 'Y'\n",
      " 'Y' 'N' 'Y' 'Y' 'Y' 'Y' 'Y' 'Y' 'Y' 'Y' 'Y' 'Y' 'Y' 'Y' 'Y' 'N' 'Y' 'Y'\n",
      " 'N' 'Y' 'Y' 'Y' 'N' 'Y' 'Y' 'Y' 'Y' 'Y' 'Y' 'Y' 'N' 'Y' 'Y' 'Y' 'Y' 'Y'\n",
      " 'Y' 'Y' 'Y' 'Y' 'Y' 'Y' 'Y']\n"
     ]
    }
   ],
   "source": [
    "print(predicted)"
   ]
  },
  {
   "cell_type": "code",
   "execution_count": 22,
   "id": "29179825",
   "metadata": {},
   "outputs": [],
   "source": [
    "prediction={j:k for j,k in zip(test_data['Loan_ID'],predicted)}"
   ]
  },
  {
   "cell_type": "code",
   "execution_count": 26,
   "id": "2acd92d1",
   "metadata": {},
   "outputs": [
    {
     "name": "stdout",
     "output_type": "stream",
     "text": [
      "{'LP001015': 'Y', 'LP001022': 'Y', 'LP001031': 'Y', 'LP001035': 'Y', 'LP001051': 'N', 'LP001054': 'Y', 'LP001055': 'Y', 'LP001056': 'N', 'LP001059': 'Y', 'LP001067': 'Y', 'LP001078': 'Y', 'LP001082': 'Y', 'LP001083': 'Y', 'LP001094': 'N', 'LP001096': 'Y', 'LP001099': 'Y', 'LP001105': 'Y', 'LP001107': 'Y', 'LP001108': 'Y', 'LP001115': 'Y', 'LP001121': 'Y', 'LP001124': 'Y', 'LP001128': 'N', 'LP001135': 'Y', 'LP001149': 'Y', 'LP001153': 'N', 'LP001163': 'Y', 'LP001169': 'Y', 'LP001174': 'Y', 'LP001176': 'Y', 'LP001177': 'Y', 'LP001183': 'Y', 'LP001185': 'Y', 'LP001187': 'Y', 'LP001190': 'Y', 'LP001203': 'N', 'LP001208': 'Y', 'LP001210': 'Y', 'LP001211': 'Y', 'LP001219': 'Y', 'LP001220': 'Y', 'LP001221': 'Y', 'LP001226': 'Y', 'LP001230': 'Y', 'LP001231': 'Y', 'LP001232': 'Y', 'LP001237': 'Y', 'LP001242': 'Y', 'LP001268': 'Y', 'LP001270': 'Y', 'LP001284': 'Y', 'LP001287': 'Y', 'LP001291': 'Y', 'LP001298': 'Y', 'LP001312': 'Y', 'LP001313': 'N', 'LP001317': 'Y', 'LP001321': 'Y', 'LP001323': 'N', 'LP001324': 'Y', 'LP001332': 'Y', 'LP001335': 'Y', 'LP001338': 'Y', 'LP001347': 'N', 'LP001348': 'Y', 'LP001351': 'Y', 'LP001352': 'N', 'LP001358': 'N', 'LP001359': 'Y', 'LP001361': 'N', 'LP001366': 'Y', 'LP001368': 'Y', 'LP001375': 'Y', 'LP001380': 'Y', 'LP001386': 'Y', 'LP001400': 'Y', 'LP001407': 'Y', 'LP001413': 'Y', 'LP001415': 'Y', 'LP001419': 'Y', 'LP001420': 'N', 'LP001428': 'Y', 'LP001445': 'N', 'LP001446': 'Y', 'LP001450': 'N', 'LP001452': 'Y', 'LP001455': 'Y', 'LP001466': 'Y', 'LP001471': 'Y', 'LP001472': 'N', 'LP001475': 'Y', 'LP001483': 'Y', 'LP001486': 'Y', 'LP001490': 'Y', 'LP001496': 'N', 'LP001499': 'Y', 'LP001500': 'Y', 'LP001501': 'Y', 'LP001517': 'Y', 'LP001527': 'Y', 'LP001534': 'Y', 'LP001542': 'N', 'LP001547': 'Y', 'LP001548': 'N', 'LP001558': 'Y', 'LP001561': 'Y', 'LP001563': 'N', 'LP001567': 'Y', 'LP001568': 'Y', 'LP001573': 'Y', 'LP001584': 'Y', 'LP001587': 'Y', 'LP001589': 'Y', 'LP001591': 'Y', 'LP001599': 'Y', 'LP001601': 'Y', 'LP001607': 'Y', 'LP001611': 'N', 'LP001613': 'N', 'LP001622': 'N', 'LP001627': 'Y', 'LP001650': 'Y', 'LP001651': 'Y', 'LP001652': 'N', 'LP001655': 'N', 'LP001660': 'Y', 'LP001662': 'N', 'LP001663': 'Y', 'LP001667': 'Y', 'LP001695': 'Y', 'LP001703': 'Y', 'LP001718': 'Y', 'LP001728': 'Y', 'LP001735': 'Y', 'LP001737': 'Y', 'LP001739': 'Y', 'LP001742': 'Y', 'LP001757': 'Y', 'LP001769': 'Y', 'LP001771': 'Y', 'LP001785': 'Y', 'LP001787': 'Y', 'LP001789': 'N', 'LP001791': 'Y', 'LP001794': 'Y', 'LP001797': 'Y', 'LP001815': 'Y', 'LP001817': 'N', 'LP001818': 'Y', 'LP001822': 'Y', 'LP001827': 'Y', 'LP001831': 'Y', 'LP001842': 'Y', 'LP001853': 'N', 'LP001855': 'Y', 'LP001857': 'Y', 'LP001862': 'Y', 'LP001867': 'N', 'LP001878': 'Y', 'LP001881': 'N', 'LP001886': 'Y', 'LP001906': 'N', 'LP001909': 'Y', 'LP001911': 'Y', 'LP001921': 'Y', 'LP001923': 'N', 'LP001933': 'N', 'LP001943': 'Y', 'LP001950': 'N', 'LP001959': 'Y', 'LP001961': 'Y', 'LP001973': 'Y', 'LP001975': 'Y', 'LP001979': 'N', 'LP001995': 'N', 'LP001999': 'Y', 'LP002007': 'Y', 'LP002009': 'Y', 'LP002016': 'Y', 'LP002017': 'Y', 'LP002018': 'Y', 'LP002027': 'Y', 'LP002028': 'Y', 'LP002042': 'Y', 'LP002045': 'Y', 'LP002046': 'Y', 'LP002047': 'Y', 'LP002056': 'Y', 'LP002057': 'N', 'LP002059': 'Y', 'LP002062': 'Y', 'LP002064': 'Y', 'LP002069': 'N', 'LP002070': 'N', 'LP002077': 'Y', 'LP002083': 'Y', 'LP002090': 'N', 'LP002096': 'Y', 'LP002099': 'N', 'LP002102': 'Y', 'LP002105': 'Y', 'LP002107': 'Y', 'LP002111': 'Y', 'LP002117': 'Y', 'LP002118': 'Y', 'LP002123': 'Y', 'LP002125': 'Y', 'LP002148': 'Y', 'LP002152': 'Y', 'LP002165': 'Y', 'LP002167': 'Y', 'LP002168': 'N', 'LP002172': 'Y', 'LP002176': 'Y', 'LP002183': 'Y', 'LP002184': 'Y', 'LP002186': 'Y', 'LP002192': 'Y', 'LP002195': 'Y', 'LP002208': 'Y', 'LP002212': 'Y', 'LP002240': 'Y', 'LP002245': 'Y', 'LP002253': 'Y', 'LP002256': 'N', 'LP002257': 'Y', 'LP002264': 'Y', 'LP002270': 'Y', 'LP002279': 'Y', 'LP002286': 'N', 'LP002294': 'Y', 'LP002298': 'Y', 'LP002306': 'Y', 'LP002310': 'Y', 'LP002311': 'Y', 'LP002316': 'N', 'LP002321': 'N', 'LP002325': 'Y', 'LP002326': 'Y', 'LP002329': 'N', 'LP002333': 'Y', 'LP002339': 'N', 'LP002344': 'Y', 'LP002346': 'N', 'LP002354': 'Y', 'LP002355': 'N', 'LP002358': 'Y', 'LP002360': 'Y', 'LP002375': 'Y', 'LP002376': 'Y', 'LP002383': 'N', 'LP002385': 'Y', 'LP002389': 'Y', 'LP002394': 'Y', 'LP002397': 'Y', 'LP002399': 'N', 'LP002400': 'N', 'LP002402': 'Y', 'LP002412': 'Y', 'LP002415': 'Y', 'LP002417': 'Y', 'LP002420': 'Y', 'LP002425': 'Y', 'LP002433': 'Y', 'LP002440': 'Y', 'LP002441': 'Y', 'LP002442': 'N', 'LP002445': 'Y', 'LP002450': 'N', 'LP002471': 'Y', 'LP002476': 'Y', 'LP002482': 'Y', 'LP002485': 'N', 'LP002495': 'N', 'LP002496': 'N', 'LP002523': 'Y', 'LP002542': 'Y', 'LP002550': 'Y', 'LP002551': 'N', 'LP002553': 'N', 'LP002554': 'Y', 'LP002561': 'Y', 'LP002566': 'Y', 'LP002568': 'N', 'LP002570': 'Y', 'LP002572': 'Y', 'LP002581': 'Y', 'LP002584': 'Y', 'LP002592': 'Y', 'LP002593': 'Y', 'LP002599': 'Y', 'LP002604': 'Y', 'LP002605': 'Y', 'LP002609': 'N', 'LP002610': 'Y', 'LP002612': 'Y', 'LP002614': 'Y', 'LP002630': 'Y', 'LP002635': 'Y', 'LP002639': 'Y', 'LP002644': 'Y', 'LP002651': 'N', 'LP002654': 'Y', 'LP002657': 'Y', 'LP002711': 'Y', 'LP002712': 'Y', 'LP002721': 'Y', 'LP002735': 'Y', 'LP002744': 'Y', 'LP002745': 'Y', 'LP002746': 'Y', 'LP002747': 'N', 'LP002754': 'Y', 'LP002759': 'Y', 'LP002760': 'Y', 'LP002766': 'Y', 'LP002769': 'N', 'LP002774': 'N', 'LP002775': 'Y', 'LP002781': 'Y', 'LP002782': 'Y', 'LP002786': 'Y', 'LP002790': 'Y', 'LP002791': 'Y', 'LP002793': 'Y', 'LP002802': 'N', 'LP002803': 'Y', 'LP002805': 'Y', 'LP002806': 'Y', 'LP002816': 'Y', 'LP002823': 'Y', 'LP002825': 'Y', 'LP002826': 'Y', 'LP002843': 'Y', 'LP002849': 'Y', 'LP002850': 'Y', 'LP002853': 'Y', 'LP002856': 'Y', 'LP002857': 'Y', 'LP002858': 'N', 'LP002860': 'Y', 'LP002867': 'Y', 'LP002869': 'N', 'LP002870': 'Y', 'LP002876': 'Y', 'LP002878': 'Y', 'LP002879': 'N', 'LP002885': 'Y', 'LP002890': 'Y', 'LP002891': 'Y', 'LP002899': 'Y', 'LP002901': 'Y', 'LP002907': 'Y', 'LP002920': 'Y', 'LP002921': 'N', 'LP002932': 'Y', 'LP002935': 'Y', 'LP002952': 'Y', 'LP002954': 'Y', 'LP002962': 'Y', 'LP002965': 'Y', 'LP002969': 'Y', 'LP002971': 'Y', 'LP002975': 'Y', 'LP002980': 'Y', 'LP002986': 'Y', 'LP002989': 'Y'}\n"
     ]
    }
   ],
   "source": [
    "print(prediction)"
   ]
  },
  {
   "cell_type": "code",
   "execution_count": 28,
   "id": "ce9b078d",
   "metadata": {},
   "outputs": [],
   "source": [
    "import joblib"
   ]
  },
  {
   "cell_type": "code",
   "execution_count": null,
   "id": "05d24eaa",
   "metadata": {},
   "outputs": [],
   "source": [
    "joblib.dump(modelPipeline, 'modelpipeline.pkl')"
   ]
  }
 ],
 "metadata": {
  "kernelspec": {
   "display_name": "Python 3 (ipykernel)",
   "language": "python",
   "name": "python3"
  },
  "language_info": {
   "codemirror_mode": {
    "name": "ipython",
    "version": 3
   },
   "file_extension": ".py",
   "mimetype": "text/x-python",
   "name": "python",
   "nbconvert_exporter": "python",
   "pygments_lexer": "ipython3",
   "version": "3.9.6"
  }
 },
 "nbformat": 4,
 "nbformat_minor": 5
}
